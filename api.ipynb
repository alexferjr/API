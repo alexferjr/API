{
 "cells": [
  {
   "cell_type": "markdown",
   "id": "f764c131",
   "metadata": {},
   "source": [
    "## Squiggle API\n",
    "\n",
    "#### ¿Qué proporciona?\n",
    "\n",
    "Esta API proporciona solo información pública básica que se puede encontrar fácilmente en otros lugares: quién juega, quién, cuándo y dónde, y cuáles son los puntajes. Su principal utilidad es que es simple, confiable y actualizado. No ofrece estadísticas más avanzadas. \n",
    "\n",
    "La información mostrada pertenece a la liga de fútbol americano australiana . "
   ]
  },
  {
   "cell_type": "markdown",
   "id": "b0e428fe",
   "metadata": {},
   "source": [
    "#### I- API sobre la Clasificación(Standings)"
   ]
  },
  {
   "cell_type": "code",
   "execution_count": 2,
   "id": "6e0e5e31",
   "metadata": {},
   "outputs": [
    {
     "data": {
      "text/plain": [
       "'{\"standings\":[{\"against\":1137,\"draws\":0,\"played\":14,\"behinds_for\":186,\"behinds_against\":123,\"losses\":2,\"percentage\":119.261213720317,\"name\":\"Port Adelaide\",\"id\":13,\"for\":1356,\"pts\":48,\"wins\":12,\"rank\":1,\"goals_against\":169,\"goals_for\":195},{\"behinds_against\":146,\"losses\":2,\"behinds_for\":144,\"played\":13,\"draws\":0,\"against\":884,\"goals_for\":175,\"goals_against\":123,\"rank\":2,\"wins\":11,\"pts\":44,\"id\":4,\"for\":1194,\"percentage\":135.067873303167,\"name\":\"Collingwood\"},{\"played\":13,\"draws\":0,\"against\":935,\"losses\":4,\"behinds_against\":125,\"behinds_for\":139,\"wins\":9,\"pts\":36,\"for\":1237,\"id\":11,\"percentage\":132.299465240642,\"name\":\"Melbourne\",\"goals_for\":183,\"rank\":3,\"goals_against\":135},{\"rank\":4,\"goals_against\":154,\"goals_for\":182,\"percentage\":119.598470363289,\"name\":\"Brisbane Lions\",\"id\":2,\"for\":1251,\"wins\":9,\"pts\":36,\"behinds_for\":159,\"behinds_against\":122,\"losses\":4,\"against\":1046,\"draws\":0,\"played\":13},{\"percentage\":113.057671381937,\"name\":\"St Kilda\",\"for\":1039,\"id\":15,\"pts\":32,\"wins\":8,\"rank\":5,\"goals_against\":130,\"goals_for\":153,\"against\":919,\"draws\":0,\"played\":13,\"behinds_for\":121,\"losses\":5,\"behinds_against\":139},{\"losses\":5,\"behinds_against\":157,\"behinds_for\":143,\"played\":13,\"against\":1057,\"draws\":0,\"goals_for\":171,\"goals_against\":150,\"rank\":6,\"for\":1169,\"id\":5,\"pts\":32,\"wins\":8,\"name\":\"Essendon\",\"percentage\":110.596026490066},{\"played\":14,\"draws\":0,\"against\":1090,\"behinds_against\":136,\"losses\":6,\"behinds_for\":168,\"pts\":32,\"wins\":8,\"id\":18,\"for\":1122,\"name\":\"Western Bulldogs\",\"percentage\":102.935779816514,\"goals_for\":159,\"goals_against\":159,\"rank\":7},{\"for\":1238,\"id\":1,\"pts\":28,\"wins\":7,\"percentage\":116.462841015992,\"name\":\"Adelaide\",\"goals_for\":182,\"goals_against\":152,\"rank\":8,\"played\":13,\"against\":1063,\"draws\":0,\"losses\":6,\"behinds_against\":151,\"behinds_for\":146},{\"behinds_for\":153,\"losses\":7,\"behinds_against\":162,\"draws\":1,\"against\":1104,\"played\":14,\"rank\":9,\"goals_against\":157,\"goals_for\":163,\"name\":\"Richmond\",\"percentage\":102.445652173913,\"wins\":6,\"pts\":26,\"for\":1131,\"id\":14},{\"behinds_against\":131,\"losses\":7,\"behinds_for\":138,\"played\":13,\"against\":1109,\"draws\":0,\"goals_for\":187,\"goals_against\":163,\"rank\":10,\"id\":7,\"for\":1260,\"pts\":24,\"wins\":6,\"name\":\"Geelong\",\"percentage\":113.615870153291},{\"goals_for\":173,\"goals_against\":175,\"rank\":11,\"id\":9,\"for\":1197,\"pts\":24,\"wins\":6,\"name\":\"Greater Western Sydney\",\"percentage\":97.001620745543,\"behinds_against\":184,\"losses\":8,\"behinds_for\":159,\"played\":14,\"against\":1234,\"draws\":0},{\"against\":1111,\"draws\":0,\"played\":13,\"behinds_for\":146,\"losses\":7,\"behinds_against\":145,\"name\":\"Gold Coast\",\"percentage\":94.6894689468947,\"for\":1052,\"id\":8,\"wins\":6,\"pts\":24,\"rank\":12,\"goals_against\":161,\"goals_for\":151},{\"for\":1051,\"id\":6,\"wins\":6,\"pts\":24,\"percentage\":94.2600896860987,\"name\":\"Fremantle\",\"goals_for\":155,\"goals_against\":163,\"rank\":13,\"played\":13,\"against\":1115,\"draws\":0,\"losses\":7,\"behinds_against\":137,\"behinds_for\":121},{\"for\":1060,\"id\":3,\"pts\":22,\"wins\":5,\"percentage\":98.0573543015726,\"name\":\"Carlton\",\"goals_for\":148,\"rank\":14,\"goals_against\":155,\"played\":14,\"against\":1081,\"draws\":1,\"losses\":8,\"behinds_against\":151,\"behinds_for\":172},{\"for\":1092,\"id\":16,\"wins\":5,\"pts\":20,\"percentage\":98.2898289828983,\"name\":\"Sydney\",\"goals_for\":158,\"goals_against\":163,\"rank\":15,\"played\":13,\"against\":1111,\"draws\":0,\"losses\":8,\"behinds_against\":133,\"behinds_for\":144},{\"goals_for\":138,\"goals_against\":182,\"rank\":16,\"id\":10,\"for\":964,\"wins\":4,\"pts\":16,\"name\":\"Hawthorn\",\"percentage\":78.5016286644951,\"behinds_against\":136,\"losses\":9,\"behinds_for\":136,\"played\":13,\"against\":1228,\"draws\":0},{\"behinds_for\":126,\"behinds_against\":173,\"losses\":12,\"against\":1439,\"draws\":0,\"played\":14,\"rank\":17,\"goals_against\":211,\"goals_for\":146,\"percentage\":69.6316886726894,\"name\":\"North Melbourne\",\"id\":12,\"for\":1002,\"pts\":8,\"wins\":2},{\"against\":1548,\"draws\":0,\"played\":13,\"behinds_for\":118,\"losses\":12,\"behinds_against\":168,\"name\":\"West Coast\",\"percentage\":51.421188630491,\"for\":796,\"id\":17,\"wins\":1,\"pts\":4,\"goals_against\":230,\"rank\":18,\"goals_for\":113}]}'"
      ]
     },
     "execution_count": 2,
     "metadata": {},
     "output_type": "execute_result"
    }
   ],
   "source": [
    "# permite realizar solicitudes HTTP\n",
    "import requests\n",
    "# permite trabajar con datos en forma JSON\n",
    "import json\n",
    "\n",
    "# para poder abrir un url\n",
    "from urllib.request import urlopen\n",
    "\n",
    "\n",
    "url=\"https://api.squiggle.com.au/?q=standings\"\n",
    "\n",
    "#abre el url y recibe una respuesta en formato HTTP\n",
    "uclient=urlopen(url)\n",
    "\n",
    "#permite leer el contenido de la respuesta HTTP\n",
    "responsehtml=uclient.read()\n",
    "\n",
    "#cierra la conexión\n",
    "uclient.close()\n",
    "\n",
    "#decodifida desde bytes a string\n",
    "data = responsehtml.decode()\n",
    "data\n"
   ]
  },
  {
   "cell_type": "code",
   "execution_count": null,
   "id": "b9b48900",
   "metadata": {},
   "outputs": [],
   "source": []
  }
 ],
 "metadata": {
  "kernelspec": {
   "display_name": "Python 3 (ipykernel)",
   "language": "python",
   "name": "python3"
  },
  "language_info": {
   "codemirror_mode": {
    "name": "ipython",
    "version": 3
   },
   "file_extension": ".py",
   "mimetype": "text/x-python",
   "name": "python",
   "nbconvert_exporter": "python",
   "pygments_lexer": "ipython3",
   "version": "3.9.13"
  }
 },
 "nbformat": 4,
 "nbformat_minor": 5
}
