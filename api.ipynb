{
 "cells": [
  {
   "cell_type": "markdown",
   "id": "9425c42a",
   "metadata": {},
   "source": [
    "## Squiggle API\n",
    "\n",
    "#### ¿Qué proporciona?\n",
    "\n",
    "Esta API proporciona solo información pública básica que se puede encontrar fácilmente en otros lugares: quién juega, quién, cuándo y dónde, y cuáles son los puntajes. Su principal utilidad es que es simple, confiable y actualizado. No ofrece estadísticas más avanzadas. \n",
    "\n",
    "La información mostrada pertenece a la liga de fútbol americano australiana . "
   ]
  },
  {
   "cell_type": "code",
   "execution_count": null,
   "id": "d896e6bd",
   "metadata": {},
   "outputs": [],
   "source": []
  }
 ],
 "metadata": {
  "kernelspec": {
   "display_name": "Python 3 (ipykernel)",
   "language": "python",
   "name": "python3"
  },
  "language_info": {
   "codemirror_mode": {
    "name": "ipython",
    "version": 3
   },
   "file_extension": ".py",
   "mimetype": "text/x-python",
   "name": "python",
   "nbconvert_exporter": "python",
   "pygments_lexer": "ipython3",
   "version": "3.9.13"
  }
 },
 "nbformat": 4,
 "nbformat_minor": 5
}
